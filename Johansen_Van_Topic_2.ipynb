{
 "cells": [
  {
   "cell_type": "markdown",
   "metadata": {},
   "source": [
    "This assignment includes a theoretical part and an application part. Demonstrate your understanding of the concepts discussed in this topic, research a technique, and implement it. \n",
    "\n",
    "#### Part 1: Theory \n",
    "\n",
    "1. What is the role of a confusion matrix in the evaluation of a machine trained for a pattern recognition task? In your answer, refer to a concrete example, either from literature or one you created. Anchor you answer in relevant literature. \n",
    "\n",
    "2. What is the role of the ROC curve? How would you use it to compare the performance of several classifiers? In your answer, refer to concrete examples of classifiers, either from literature or one you created. Illustrate the ROC curves and anchor your answer in relevant literature. \n",
    "\n",
    "#### Part 2: Application \n",
    "\n",
    "You are tasked to build an image classifier for the MNIST dataset of handwritten numbers, implementing the k-nearest neighbors (k-NN) algorithm. You will need the following: \n",
    "\n",
    "The MNIST dataset, available on multiple servers on the Internet. For example: \n",
    "\n",
    "- http://yann.lecun.com/exdb/mnist/ \n",
    "\n",
    "- http://www.pymvpa.org/datadb/mnist.html \n",
    "\n",
    "The Python package neighbors.KNeighborsClassifier:   \n",
    "\n",
    "- https://scikit-learn.org/stable/modules/generated/sklearn.neighbors.KNeighborsClassifier.html \n",
    "\n",
    "The input to your classifier program is an image containing a digit, 0-9. Your program must correctly identify the digit with an accuracy of 95%. Here the outline of your task, but you will have to do a bit of research on your own (and increasingly so throughout the program) to fill in the details: \n",
    "\n",
    "Familiarize yourself with the MNIST dataset \n",
    "\n",
    "Familiarize yourself with the k-NN algorithm and its Python implementation in sklearn \n",
    "\n",
    "Create a Jupyter notebook for this assignment and implement the k-NN algorithm: \n",
    "\n",
    "- Import the package kNeighborsClassifier. \n",
    "\n",
    "- Be mindful of the train-test split and set the parameters accordingly (justify your choice). \n",
    "\n",
    "- Identify the variables in the dataset and define the Euclidean distance between an element in the test set and the training set. \n",
    "\n",
    "- Calculate the distance between the test element and each of if its k nearest neighbors. \n",
    "\n",
    "- Count the occurrence of each digit within the k nearest neighbors and identify the most popular digit. \n",
    "\n",
    "- Identify the test element as the digit voted as most popular in the set of the k nearest neighbors. \n",
    "\n",
    "- Classify the test element accordingly (i.e. based on the popular vote). \n",
    "\n",
    "- Calculate the error. \n",
    "\n",
    "\n",
    "#### Part 3: Report\n",
    "\n",
    "Review the article “Handwritten Digit Recognition Using K-Nearest Neighbour Classifier.” Note the algorithms used, but focus on the way the authors: \n",
    "\n",
    "\n",
    "- Present the findings \n",
    "\n",
    "- Discuss the findings \n",
    "\n",
    "- Calculate the accuracy of the results \n",
    "\n",
    "- Write the article, using professional terminology and content organization \n",
    "\n",
    "Write a technical report (i.e., not a full-fledged academic paper) to accompany the Jupyter notebook that implements the classifier, using the aforementioned article as a guide on what to address and how to present the mini-project and report the findings. \n",
    "\n",
    "- Address the potential role of a confusion matrix in your report (refer to Part 1). \n",
    "\n",
    "- Address the potential role of ROC curve in your report (refer to Part 1). \n",
    "\n",
    "APA style is expected, as well as formal and rigorous scientific writing, using appropriate mathematical notation and references. "
   ]
  },
  {
   "cell_type": "markdown",
   "metadata": {},
   "source": [
    "### PART 1.1"
   ]
  },
  {
   "cell_type": "markdown",
   "metadata": {},
   "source": [
    "Confusion matrices are fantastic tools that are used to evaluate the performance of a trained model. There are several scores that each give critical information that help inform the data scientist about which model performs better than the other. Each score gives critical information and depending on the objective of the model, each one can serve a different purpose. While the matrix lays out the true positives, true negatives, false positives, and false negatives the data scientist can calculate the following metrics: misclassification rate, success rate, true positive rate, true negative rate, sensitivity, specificity, precision, recall, f1 score, and the receiver operating characteristic (ROC) curve. With all the scores that come from the predicted values versus the actual values a data scientist can correctly assess the performance of the model given the business objective (Gopal, 2019, p. 71). \n",
    "\n",
    "\n",
    "One example is when predicting cancer patients, the classification predicts that a certain patient has cancer, so the doctor goes to him and his family and tells him about this and all the possibilities. However, if you find out you incorrectly classified him as having cancer when really, he does not you will have to tell him and his family who might be in shock. That’s why the data scientist wants the classifier 100% confident, or in more simpler words they want 100% precision. The worse situation in this example is classifying a patient that actually has cancer as not having cancer. They will then think they are safe but in reality, they would die soon. This is very bad situation, and to avoid it the data scientist would want to increase the recall.  \n"
   ]
  },
  {
   "cell_type": "markdown",
   "metadata": {},
   "source": [
    "### PART 1.2"
   ]
  },
  {
   "cell_type": "markdown",
   "metadata": {},
   "source": [
    "\n",
    "The ROC curve uses information from the confusion matrix, the predicted values and the actual values, to generate the following information and scores. The ROC curve is on a two-dimensional graph which plots the true positive rate, sensitivity, on the y-axis and false positive rate, complement of the specificity, on the x-axis. A ROC curve shows relative trade-offs between advantages, true positives, and costs, false positives (Gopal, 2019, p. 75). When making decisions and comparisons with the ROC curve, the preferred plot will have points moving to the top left corner - true positive rate is higher while false positive rate is lower. The data scientist will also consider and make comparisons by calculating the area under this curve (McClish, 1989). \n"
   ]
  },
  {
   "cell_type": "markdown",
   "metadata": {},
   "source": [
    "### PART 2"
   ]
  },
  {
   "cell_type": "markdown",
   "metadata": {},
   "source": [
    "In k-NN classification, the output is a class. An object is classified by a majority vote of its neighbors, with the object being assigned to the class most common among its k nearest neighbors. The k nearest neighbor (kNN) method is a popular classification method in data mining and statistics because of its simple implementation and significant classification performance. However, it is impractical for traditional kNN methods to assign a fixed k value (even though set by experts) to all test samples (Zhang, 2018)."
   ]
  },
  {
   "cell_type": "code",
   "execution_count": 25,
   "metadata": {},
   "outputs": [],
   "source": [
    "import pandas as pd\n",
    "import numpy as np\n",
    "import tensorflow as tf\n",
    "import matplotlib.pyplot as plt\n",
    "from sklearn import datasets\n",
    "from sklearn.model_selection import train_test_split\n",
    "from sklearn.neighbors import KNeighborsClassifier\n",
    "from sklearn.metrics import classification_report, confusion_matrix, roc_auc_score, plot_roc_curve, roc_curve\n",
    "from skimage import exposure\n",
    "import imutils\n",
    "import cv2\n",
    "import sklearn"
   ]
  },
  {
   "cell_type": "code",
   "execution_count": 13,
   "metadata": {},
   "outputs": [],
   "source": [
    "(x_train, y_train), (x_test, y_test) = tf.keras.datasets.mnist.load_data()"
   ]
  },
  {
   "cell_type": "code",
   "execution_count": 14,
   "metadata": {
    "scrolled": true
   },
   "outputs": [
    {
     "name": "stdout",
     "output_type": "stream",
     "text": [
      "4\n"
     ]
    },
    {
     "data": {
      "text/plain": [
       "<matplotlib.image.AxesImage at 0x24fbd3f5d48>"
      ]
     },
     "execution_count": 14,
     "metadata": {},
     "output_type": "execute_result"
    },
    {
     "data": {
      "image/png": "[encoded data removed]",
      "text/plain": [
       "<Figure size 432x288 with 1 Axes>"
      ]
     },
     "metadata": {
      "needs_background": "light"
     },
     "output_type": "display_data"
    }
   ],
   "source": [
    "%matplotlib inline\n",
    "image_index = 60 \n",
    "print(y_train[image_index])\n",
    "plt.imshow(x_train[image_index], cmap='Greys')"
   ]
  },
  {
   "cell_type": "code",
   "execution_count": 15,
   "metadata": {},
   "outputs": [
    {
     "name": "stdout",
     "output_type": "stream",
     "text": [
      "training data points: 1212\n",
      "validation data points: 135\n",
      "testing data points: 450\n"
     ]
    }
   ],
   "source": [
    "mnist = datasets.load_digits()\n",
    " \n",
    "# take the MNIST data and construct the training and testing split, using 75% of the\n",
    "# data for training and 25% for testing\n",
    "(trainData, testData, trainLabels, testLabels) = train_test_split(np.array(mnist.data), mnist.target, \n",
    "                                                                  test_size=0.25, random_state=42)\n",
    " \n",
    "# Take 10% of the training data and use that for validation\n",
    "(trainData, valData, trainLabels, valLabels) = train_test_split(trainData, trainLabels, \n",
    "                                                                test_size=0.1, random_state=84)\n",
    " \n",
    "# show the sizes of each data split\n",
    "print(\"training data points: {}\".format(len(trainLabels)))\n",
    "print(\"validation data points: {}\".format(len(valLabels)))\n",
    "print(\"testing data points: {}\".format(len(testLabels)))"
   ]
  },
  {
   "cell_type": "code",
   "execution_count": 16,
   "metadata": {},
   "outputs": [
    {
     "name": "stdout",
     "output_type": "stream",
     "text": [
      "k=1, accuracy=99.26%\n",
      "k=3, accuracy=99.26%\n",
      "k=5, accuracy=99.26%\n",
      "k=7, accuracy=99.26%\n",
      "k=9, accuracy=99.26%\n",
      "k=11, accuracy=99.26%\n",
      "k=13, accuracy=99.26%\n",
      "k=15, accuracy=99.26%\n",
      "k=17, accuracy=98.52%\n",
      "k=19, accuracy=98.52%\n",
      "k=21, accuracy=97.78%\n",
      "k=23, accuracy=97.04%\n",
      "k=25, accuracy=97.78%\n",
      "k=27, accuracy=97.04%\n",
      "k=29, accuracy=97.04%\n",
      "k=1 achieved highest accuracy of 99.26% on validation data\n"
     ]
    }
   ],
   "source": [
    "# initialize the values of k for our k-Nearest Neighbor classifier along with the list of \n",
    "# accuracies for each value of k\n",
    "kVals = range(1, 30, 2)\n",
    "accuracies = []\n",
    " \n",
    "# loop over various values of `k` for the k-Nearest Neighbor classifier\n",
    "for k in range(1, 30, 2):\n",
    "    # train the k-Nearest Neighbor classifier with the current value of `k`\n",
    "    model = KNeighborsClassifier(n_neighbors=k)\n",
    "    model.fit(trainData, trainLabels)\n",
    "\n",
    "    # evaluate the model and update the accuracies list\n",
    "    score = model.score(valData, valLabels)\n",
    "    print(\"k=%d, accuracy=%.2f%%\" % (k, score * 100))\n",
    "    accuracies.append(score)\n",
    "\n",
    "# find the value of k that has the largest accuracy\n",
    "i = int(np.argmax(accuracies))\n",
    "print(\"k=%d achieved highest accuracy of %.2f%% on validation data\" % (kVals[i], accuracies[i] * 100))"
   ]
  },
  {
   "cell_type": "code",
   "execution_count": 17,
   "metadata": {},
   "outputs": [
    {
     "name": "stdout",
     "output_type": "stream",
     "text": [
      "EVALUATION ON TESTING DATA\n",
      "              precision    recall  f1-score   support\n",
      "\n",
      "           0       1.00      1.00      1.00        43\n",
      "           1       0.95      1.00      0.97        37\n",
      "           2       1.00      1.00      1.00        38\n",
      "           3       0.98      0.98      0.98        46\n",
      "           4       0.98      0.98      0.98        55\n",
      "           5       0.98      1.00      0.99        59\n",
      "           6       1.00      1.00      1.00        45\n",
      "           7       1.00      0.98      0.99        41\n",
      "           8       0.97      0.95      0.96        38\n",
      "           9       0.96      0.94      0.95        48\n",
      "\n",
      "    accuracy                           0.98       450\n",
      "   macro avg       0.98      0.98      0.98       450\n",
      "weighted avg       0.98      0.98      0.98       450\n",
      "\n"
     ]
    }
   ],
   "source": [
    "# re-train the classifier using the best k value and predict the labels of the\n",
    "# test data\n",
    "model = KNeighborsClassifier(n_neighbors=kVals[i])\n",
    "model = KNeighborsClassifier(n_neighbors=1)\n",
    "model.fit(trainData, trainLabels)\n",
    "predictions = model.predict(testData)\n",
    " \n",
    "# show a final classification report demonstrating the accuracy of the classifier\n",
    "# for each of the digits\n",
    "print(\"EVALUATION ON TESTING DATA\")\n",
    "print(classification_report(testLabels, predictions))"
   ]
  },
  {
   "cell_type": "code",
   "execution_count": 18,
   "metadata": {},
   "outputs": [
    {
     "name": "stdout",
     "output_type": "stream",
     "text": [
      "accuracy =  99.25925925925925\n",
      "error =  0.7407407407407418\n"
     ]
    }
   ],
   "source": [
    "# evaluate the model and update the accuracies list\n",
    "score = model.score(valData, valLabels)\n",
    "print(\"accuracy = \", (score * 100))\n",
    "print(\"error = \", (1 - score)*100)"
   ]
  },
  {
   "cell_type": "code",
   "execution_count": 9,
   "metadata": {},
   "outputs": [
    {
     "name": "stdout",
     "output_type": "stream",
     "text": [
      "I think that digit is: 2\n"
     ]
    }
   ],
   "source": [
    "# validate \n",
    "for i in list(map(int, np.random.randint(0, high=len(testLabels), size=(1,)))):\n",
    "    # grab the image and classify it\n",
    "    image = testData[i]\n",
    "    prediction = model.predict(image.reshape(1, -1))[0]\n",
    " \n",
    "    # convert the image for a 64-dim array to an 8 x 8 image compatible with OpenCV,\n",
    "    # then resize it to 32 x 32 pixels so we can see it better\n",
    "    image = image.reshape((8, 8)).astype(\"uint8\")\n",
    "    image = exposure.rescale_intensity(image, out_range=(0, 255))\n",
    "    image = imutils.resize(image, width=32, inter=cv2.INTER_CUBIC)\n",
    " \n",
    "    # show the prediction\n",
    "    print(\"I think that digit is: {}\".format(prediction))\n",
    "    cv2.imshow(\"Image\", image)\n",
    "    cv2.waitKey(0)"
   ]
  },
  {
   "cell_type": "code",
   "execution_count": null,
   "metadata": {},
   "outputs": [],
   "source": [
    "# see attached image for result"
   ]
  },
  {
   "cell_type": "code",
   "execution_count": 21,
   "metadata": {
    "scrolled": true
   },
   "outputs": [
    {
     "name": "stdout",
     "output_type": "stream",
     "text": [
      "[[43  0  0  0  0  0  0  0  0  0]\n",
      " [ 0 37  0  0  0  0  0  0  0  0]\n",
      " [ 0  0 38  0  0  0  0  0  0  0]\n",
      " [ 0  0  0 45  0  0  0  0  1  0]\n",
      " [ 0  1  0  0 54  0  0  0  0  0]\n",
      " [ 0  0  0  0  0 59  0  0  0  0]\n",
      " [ 0  0  0  0  0  0 45  0  0  0]\n",
      " [ 0  0  0  0  0  0  0 40  0  1]\n",
      " [ 0  1  0  0  0  0  0  0 36  1]\n",
      " [ 0  0  0  1  1  1  0  0  0 45]]\n"
     ]
    }
   ],
   "source": [
    "# construct confusion matrix\n",
    "print(confusion_matrix(testLabels, predictions))\n",
    "\n",
    "# all results and analysis attached with part 3 below"
   ]
  },
  {
   "cell_type": "markdown",
   "metadata": {},
   "source": [
    "### Part 3 \n",
    "\n",
    "Attached separately"
   ]
  },
  {
   "cell_type": "markdown",
   "metadata": {},
   "source": [
    "### References:"
   ]
  },
  {
   "cell_type": "markdown",
   "metadata": {},
   "source": []
  }
 ],
 "metadata": {
  "kernelspec": {
   "display_name": "Python 3",
   "language": "python",
   "name": "python3"
  },
  "language_info": {
   "codemirror_mode": {
    "name": "ipython",
    "version": 3
   },
   "file_extension": ".py",
   "mimetype": "text/x-python",
   "name": "python",
   "nbconvert_exporter": "python",
   "pygments_lexer": "ipython3",
   "version": "3.7.6"
  }
 },
 "nbformat": 4,
 "nbformat_minor": 4
}
