{
 "cells": [
  {
   "cell_type": "markdown",
   "metadata": {},
   "source": [
    "### Part 1\n",
    "1. Proof of the form of the linear discriminant function\n",
    "2. Proof of the form of decision boundary\n",
    "\n",
    "### Part 2\n",
    "\n",
    "1. Found the minima of E(w) in two iterations\n",
    "2. Draws contours\n",
    "3. Shows learning path graphically\n",
    "\n",
    "### Part 3\n",
    "\n",
    "1. Shows that logistic regression is a non-linear regression problem\n",
    "2. Treat logistic discrimination in terms of equivalent linear regression"
   ]
  },
  {
   "cell_type": "markdown",
   "metadata": {},
   "source": [
    "##### Part 1 attached with reference added below"
   ]
  },
  {
   "cell_type": "markdown",
   "metadata": {},
   "source": [
    "##### PART 2"
   ]
  },
  {
   "cell_type": "code",
   "execution_count": 1,
   "metadata": {},
   "outputs": [],
   "source": [
    "import numpy as np\n",
    "import matplotlib.pyplot as plt\n",
    "import pandas as pd\n",
    "import statsmodels.api as sm\n",
    "from scipy import stats\n",
    "from sklearn.model_selection import train_test_split\n",
    "from sklearn.linear_model import LogisticRegression\n",
    "import seaborn as sns\n",
    "%matplotlib inline"
   ]
  },
  {
   "cell_type": "code",
   "execution_count": 9,
   "metadata": {
    "scrolled": false
   },
   "outputs": [
    {
     "name": "stdout",
     "output_type": "stream",
     "text": [
      "Result at 10 iteration =  28.660083735050726\n",
      "Result at 20 iteration =  24.819392944854677\n",
      "Result at 30 iteration =  22.36308956254163\n",
      "Result at 40 iteration =  20.43006409941553\n",
      "Result at 50 iteration =  18.7783093321145\n",
      "Result at 60 iteration =  17.32676085320618\n",
      "Result at 70 iteration =  16.038781980797292\n",
      "Result at 80 iteration =  14.891431818886751\n",
      "Result at 90 iteration =  13.867096230070816\n",
      "W =  1.1995853082541494 & b =  -0.1466416287337599\n"
     ]
    },
    {
     "data": {
      "image/png": "[encoded data removed]",
      "text/plain": [
       "<Figure size 432x288 with 1 Axes>"
      ]
     },
     "metadata": {
      "needs_background": "light"
     },
     "output_type": "display_data"
    },
    {
     "name": "stdout",
     "output_type": "stream",
     "text": [
      "Result at 10 iteration =  20.23728576121578\n",
      "Result at 20 iteration =  13.669337055089692\n",
      "Result at 30 iteration =  10.149530635611743\n",
      "Result at 40 iteration =  7.70702652362503\n",
      "Result at 50 iteration =  5.8294937618503795\n",
      "Result at 60 iteration =  4.344442940504366\n",
      "Result at 70 iteration =  3.1682841190791553\n",
      "Result at 80 iteration =  2.2453702608833948\n",
      "Result at 90 iteration =  1.5322441981075738\n",
      "W =  -0.332165586281984 & b =  0.5748021621281751\n"
     ]
    },
    {
     "data": {
      "image/png": "[encoded data removed]",
      "text/plain": [
       "<Figure size 432x288 with 1 Axes>"
      ]
     },
     "metadata": {
      "needs_background": "light"
     },
     "output_type": "display_data"
    }
   ],
   "source": [
    "## PART 2.1:\n",
    "## FIND MINIMA:\n",
    "\n",
    "X = [0,0.12,0.25,0.27,0.38,0.42,0.44,0.55,0.92,1.0]\n",
    "Y = [0,0.15,0.54,0.51, 0.34,0.1,0.19,0.53,1.0,0.58]\n",
    "\n",
    "for j in [2,-2]:\n",
    "    results = []\n",
    "    #Step 1: Parameter initialization \n",
    "    W = j\n",
    "    b = 0.01\n",
    "\n",
    "    for i in range(1, 100):\n",
    "\n",
    "    #Step 2: Step 2: Calculate Results from given Function\n",
    "        Y_pred = np.multiply(W, X) + b\n",
    "        function = 2*W**2 + 2*W*W + 5*W**2\n",
    "\n",
    "    #Step 3: Calculate dW and db    \n",
    "        db = np.sum((Y_pred - Y))\n",
    "        dw = np.dot((Y_pred - Y), X)\n",
    "        results.append(function)\n",
    "\n",
    "    #Step 4: Update parameters:\n",
    "        W = W - 0.01*dw\n",
    "        b = b - 0.01*db\n",
    "        \n",
    "## PART 2.2:\n",
    "## DRAW CONTOURS:\n",
    "        if i%10 == 0:\n",
    "            print(\"Result at\", i,\"iteration = \", function)\n",
    "\n",
    "## PART 2.3:\n",
    "## PLOTS LEARNING PATH:   \n",
    "    #Plot the results against no. of iterations\n",
    "    print(\"W = \", W,\"& b = \",  b)\n",
    "    plt.plot(results)\n",
    "    plt.ylabel('Result')\n",
    "    plt.xlabel('iterations')\n",
    "    plt.show()\n",
    "    \n",
    "# (Rizwan, 2018)"
   ]
  },
  {
   "cell_type": "markdown",
   "metadata": {},
   "source": [
    "Gradient descent is an iterative optimization algorithm to find the minimum value (local optima) of a function. Gradient descent is efficient with both linear and classification problems and provides required accuracy with multiple parameters (Weights and bias). It involves following steps:\n",
    "\n",
    "1. Initialize parameters (Weights and bias) at random position or simply as zero.\n",
    "2. Calculate cost function (J).\n",
    "3. Take the partial derivative of the cost function with respect to Weights and bias (dW and db).\n",
    "4. Change parameters values as:\n",
    "    - Wnew = W – learning rate * dW\n",
    "    - Bnew = b – learning rate * db\n",
    "5. Again, start from step 2 with new values of W and b and repeat the same for ‘n’ no. of iterations. With each iteration, the value of cost will progressively decrease and eventually end up with flat value. (Rizwan, 2018).\n",
    "\n",
    "Gradient descent is a way to minimize an objective function F(θ) with a model’s parameters θ by updating the parameters in the opposite direction of the gradient of the objective function ∇θF(θ) to the parameters. The learning rate η determines the size of the steps we take to reach a (local) minimum. In other words, we follow the direction of the slope of the surface created by the objective function downhill until we reach a valley. (Ruder, 2017)."
   ]
  },
  {
   "cell_type": "markdown",
   "metadata": {},
   "source": [
    "##### PART 3"
   ]
  },
  {
   "cell_type": "code",
   "execution_count": 4,
   "metadata": {
    "scrolled": false
   },
   "outputs": [
    {
     "name": "stdout",
     "output_type": "stream",
     "text": [
      "Optimization terminated successfully.\n",
      "         Current function value: 0.444552\n",
      "         Iterations 7\n"
     ]
    },
    {
     "data": {
      "text/html": [
       "<table class=\"simpletable\">\n",
       "<tr>\n",
       "        <td>Model:</td>              <td>Logit</td>      <td>Pseudo R-squared:</td>    <td>0.190</td>  \n",
       "</tr>\n",
       "<tr>\n",
       "  <td>Dependent Variable:</td>      <td>income</td>            <td>AIC:</td>        <td>20012.8337</td>\n",
       "</tr>\n",
       "<tr>\n",
       "         <td>Date:</td>        <td>2020-09-23 21:48</td>       <td>BIC:</td>        <td>20044.9188</td>\n",
       "</tr>\n",
       "<tr>\n",
       "   <td>No. Observations:</td>        <td>22500</td>       <td>Log-Likelihood:</td>    <td>-10002.</td> \n",
       "</tr>\n",
       "<tr>\n",
       "       <td>Df Model:</td>              <td>3</td>            <td>LL-Null:</td>        <td>-12355.</td> \n",
       "</tr>\n",
       "<tr>\n",
       "     <td>Df Residuals:</td>          <td>22496</td>        <td>LLR p-value:</td>      <td>0.0000</td>  \n",
       "</tr>\n",
       "<tr>\n",
       "      <td>Converged:</td>           <td>1.0000</td>           <td>Scale:</td>         <td>1.0000</td>  \n",
       "</tr>\n",
       "<tr>\n",
       "    <td>No. Iterations:</td>        <td>7.0000</td>              <td></td>               <td></td>     \n",
       "</tr>\n",
       "</table>\n",
       "<table class=\"simpletable\">\n",
       "<tr>\n",
       "         <td></td>         <th>Coef.</th>  <th>Std.Err.</th>     <th>z</th>     <th>P>|z|</th> <th>[0.025</th>  <th>0.975]</th> \n",
       "</tr>\n",
       "<tr>\n",
       "  <th>const</th>          <td>-8.4911</td>  <td>0.1325</td>  <td>-64.0651</td> <td>0.0000</td> <td>-8.7509</td> <td>-8.2313</td>\n",
       "</tr>\n",
       "<tr>\n",
       "  <th>age</th>            <td>0.0466</td>   <td>0.0014</td>   <td>33.5386</td> <td>0.0000</td> <td>0.0439</td>  <td>0.0493</td> \n",
       "</tr>\n",
       "<tr>\n",
       "  <th>education-num</th>  <td>0.3413</td>   <td>0.0078</td>   <td>43.7510</td> <td>0.0000</td> <td>0.3260</td>  <td>0.3566</td> \n",
       "</tr>\n",
       "<tr>\n",
       "  <th>hours-per-week</th> <td>0.0431</td>   <td>0.0015</td>   <td>28.1761</td> <td>0.0000</td> <td>0.0401</td>  <td>0.0461</td> \n",
       "</tr>\n",
       "</table>"
      ],
      "text/plain": [
       "<class 'statsmodels.iolib.summary2.Summary'>\n",
       "\"\"\"\n",
       "                         Results: Logit\n",
       "=================================================================\n",
       "Model:              Logit            Pseudo R-squared: 0.190     \n",
       "Dependent Variable: income           AIC:              20012.8337\n",
       "Date:               2020-09-23 21:48 BIC:              20044.9188\n",
       "No. Observations:   22500            Log-Likelihood:   -10002.   \n",
       "Df Model:           3                LL-Null:          -12355.   \n",
       "Df Residuals:       22496            LLR p-value:      0.0000    \n",
       "Converged:          1.0000           Scale:            1.0000    \n",
       "No. Iterations:     7.0000                                       \n",
       "-----------------------------------------------------------------\n",
       "                  Coef.  Std.Err.    z     P>|z|   [0.025  0.975]\n",
       "-----------------------------------------------------------------\n",
       "const            -8.4911   0.1325 -64.0651 0.0000 -8.7509 -8.2313\n",
       "age               0.0466   0.0014  33.5386 0.0000  0.0439  0.0493\n",
       "education-num     0.3413   0.0078  43.7510 0.0000  0.3260  0.3566\n",
       "hours-per-week    0.0431   0.0015  28.1761 0.0000  0.0401  0.0461\n",
       "=================================================================\n",
       "\n",
       "\"\"\""
      ]
     },
     "execution_count": 4,
     "metadata": {},
     "output_type": "execute_result"
    }
   ],
   "source": [
    "adult_df = pd.read_csv('AdultT6.csv')\n",
    "adult_df = adult_df.dropna()\n",
    "adult_df.head()\n",
    "\n",
    "adult_df['income'] = adult_df['income'].map({'<=50K': 0, '>50K': 1}).astype(int)\n",
    "\n",
    "X = pd.DataFrame(adult_df[['age','education-num','hours-per-week']])\n",
    "X = sm.add_constant(X)\n",
    "y = pd.DataFrame(adult_df[['income']])\n",
    "\n",
    "X_train, X_test, y_train, y_test = train_test_split(X, y, test_size=0.1, random_state=6)\n",
    "\n",
    "logreg01 = sm.Logit(y_train,X_train).fit()\n",
    "logreg01.summary2()"
   ]
  },
  {
   "cell_type": "code",
   "execution_count": 5,
   "metadata": {
    "scrolled": false
   },
   "outputs": [
    {
     "name": "stderr",
     "output_type": "stream",
     "text": [
      "C:\\Users\\zzenz\\anaconda3\\lib\\site-packages\\sklearn\\utils\\validation.py:760: DataConversionWarning: A column-vector y was passed when a 1d array was expected. Please change the shape of y to (n_samples, ), for example using ravel().\n",
      "  y = column_or_1d(y, warn=True)\n"
     ]
    },
    {
     "data": {
      "text/plain": [
       "<matplotlib.axes._subplots.AxesSubplot at 0x1fbc985b288>"
      ]
     },
     "execution_count": 5,
     "metadata": {},
     "output_type": "execute_result"
    },
    {
     "data": {
      "image/png": "[encoded data removed]",
      "text/plain": [
       "<Figure size 432x288 with 1 Axes>"
      ]
     },
     "metadata": {
      "needs_background": "light"
     },
     "output_type": "display_data"
    }
   ],
   "source": [
    "clf = LogisticRegression(random_state=6).fit(X_train, y_train)\n",
    "sns.regplot(x=clf.predict_proba(X_train)[:,1], y=y_train, logistic=True)"
   ]
  },
  {
   "cell_type": "markdown",
   "metadata": {},
   "source": [
    "In Logistic Regression the probability, odds, and log odds are calculated as follows:\n",
    "- Probability of (Y=1): p=eα+β1x1+β2x21+eα+β1x1+β2x2\n",
    "- Odds of (Y=1): (p1−p)=eα+β1x1+β2x2\n",
    "- Log Odds of (Y=1): log(p1−p)=α+β1x1+β2x2\n",
    "\n",
    "We can see from the above plot that Logistic regression is indeed non linear in terms of Odds and Probability, however it is linear in terms of Log Odds. The below plot shows the linearity of the log odds for one of the 3 inputs. \n",
    "\n",
    "Gopal expresses the nonlinearity of the logistic regression as follows:\n",
    "\n",
    "- P(Class 1|x) = 1 / 1+ exp[- (wT x + w0)]\n",
    "\n",
    "Where {w, w0} is the set of adjustable weights in binary classification (nonlinearity is a sigmoid function). (Gopal, 2019, p.120).\n",
    "\n",
    "He continues to express the linearity of Logistic Regression by explaining the log odds as follows, \"The transformation to log(odds), with logit as a dependent variable, converts the problem to a possibly linear regression task. For binary classification problem, it is assumed that\n",
    "\n",
    "- log(odds) = log P(Class|x) / 1 - P(Class|x) = w0, w1x1, …, wnxn\n",
    "\n",
    "w0, w1, …, wn are (n + 1) parameters of linear logit function\" (Gopal, 2019, p.126). "
   ]
  },
  {
   "cell_type": "code",
   "execution_count": 17,
   "metadata": {},
   "outputs": [
    {
     "data": {
      "text/plain": [
       "<matplotlib.axes._subplots.AxesSubplot at 0x1fbc9bc5388>"
      ]
     },
     "execution_count": 17,
     "metadata": {},
     "output_type": "execute_result"
    },
    {
     "data": {
      "image/png": "[encoded data removed]",
      "text/plain": [
       "<Figure size 432x288 with 1 Axes>"
      ]
     },
     "metadata": {
      "needs_background": "light"
     },
     "output_type": "display_data"
    }
   ],
   "source": [
    "sns.regplot(x=X_train['age'], y=y_train)"
   ]
  },
  {
   "cell_type": "markdown",
   "metadata": {},
   "source": [
    "### REFERENCES\n",
    "\n",
    "Ghojogh, B., &amp; Crowley, M. (2019, June 1). Linear and Quadratic Discriminant Analysis: Tutorial. Retrieved from https://arxiv.org/abs/1906.02590\n",
    "\n",
    "\n",
    "Gopal, M. (2019). Applied machine learning. New York: McGraw-Hill Education. \n",
    "\n",
    "\n",
    "Rizwan, M. (2018, May 15). Gradient Descent – A Simple Way to Understand. Retrieved from https://engmrk.com/gradient-descent/?utm_campaign=News\n",
    "\n",
    "\n",
    "Ruder, S. (2017, June 15). An overview of gradient descent optimization algorithms.Retrieved from https://arxiv.org/abs/1609.04747"
   ]
  }
 ],
 "metadata": {
  "kernelspec": {
   "display_name": "Python 3",
   "language": "python",
   "name": "python3"
  },
  "language_info": {
   "codemirror_mode": {
    "name": "ipython",
    "version": 3
   },
   "file_extension": ".py",
   "mimetype": "text/x-python",
   "name": "python",
   "nbconvert_exporter": "python",
   "pygments_lexer": "ipython3",
   "version": "3.7.6"
  }
 },
 "nbformat": 4,
 "nbformat_minor": 4
}
